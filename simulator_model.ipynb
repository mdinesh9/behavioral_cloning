{
 "cells": [
  {
   "cell_type": "code",
   "execution_count": 1,
   "metadata": {},
   "outputs": [
    {
     "name": "stderr",
     "output_type": "stream",
     "text": [
      "Using TensorFlow backend.\n"
     ]
    }
   ],
   "source": [
    "import csv\n",
    "import os\n",
    "import random\n",
    "\n",
    "import cv2\n",
    "import dask.array as da\n",
    "import h5py\n",
    "import numpy as np\n",
    "import pandas as pd\n",
    "from sklearn.utils import shuffle\n",
    "from sklearn.model_selection import train_test_split\n",
    "\n",
    "import keras\n",
    "from keras.models import Sequential\n",
    "from keras.layers import Flatten, Dense, Lambda, Dropout\n",
    "from keras.layers import Conv2D, Cropping2D\n",
    "from keras.layers.pooling import MaxPooling2D\n",
    "from keras.callbacks import ModelCheckpoint, EarlyStopping\n",
    "\n",
    "from keras.optimizers import Adam\n",
    "\n",
    "\n",
    "import warnings\n",
    "warnings.filterwarnings('ignore')\n",
    "\n",
    "import matplotlib.pyplot as plt\n",
    "%matplotlib inline"
   ]
  },
  {
   "cell_type": "code",
   "execution_count": 14,
   "metadata": {},
   "outputs": [],
   "source": [
    "def train_test_curves(data):\n",
    "    fig = plt.figure()\n",
    "    ax1 = fig.add_subplot(221)\n",
    "\n",
    "    ax1.plot(data[\"acc\"])\n",
    "    ax1.plot(data[\"val_acc\"])\n",
    "    ax1.set_title(\"Model Accuracy\")\n",
    "    ax1.set_ylabel(\"Accuracy\")\n",
    "    ax1.set_xlabel(\"Epoch\")\n",
    "    ax1.legend([\"train\",\"test\"])\n",
    "\n",
    "    ax2 = fig.add_subplot(222)\n",
    "\n",
    "    ax2.plot(data[\"loss\"])\n",
    "    ax2.plot(data[\"val_loss\"])\n",
    "    ax2.set_title(\"Model Loss\")\n",
    "    ax2.set_ylabel(\"Loss\")\n",
    "    ax2.set_xlabel(\"Epoch\")\n",
    "    ax2.legend([\"train\",\"test\"])\n",
    "    \n",
    "    return ax1, ax2"
   ]
  },
  {
   "cell_type": "code",
   "execution_count": 2,
   "metadata": {},
   "outputs": [],
   "source": [
    "def img_path(subdir_path, img_path):\n",
    "    imgdir_path = os.path.join(subdir_path, \"IMG\")\n",
    "    img_path = os.path.join(imgdir_path, img_path)\n",
    "    return img_path\n",
    "\n",
    "def read_data(root_folder=\"track1_data\", subfolder=None):\n",
    "    subdir_path = os.path.join(root_folder, subfolder)\n",
    "    \n",
    "    driving_log = pd.read_csv(os.path.join(subdir_path, \"driving_log.csv\"), header=None, skiprows=[0])\n",
    "    driving_log.columns = [\"center_img\",\"left_img\",\"right_img\",\"steering_angle\",\"throttle\",\"break\",\"speed\"]\n",
    "    \n",
    "    driving_log[\"center_img\"] = driving_log[\"center_img\"].apply(lambda v: img_path(subdir_path, v.split(\"/\")[-1]))\n",
    "    driving_log[\"left_img\"] = driving_log[\"left_img\"].apply(lambda v: img_path(subdir_path, v.split(\"/\")[-1]))\n",
    "    driving_log[\"right_img\"] = driving_log[\"right_img\"].apply(lambda v: img_path(subdir_path, v.split(\"/\")[-1]))    \n",
    "    \n",
    "    return driving_log"
   ]
  },
  {
   "cell_type": "code",
   "execution_count": 3,
   "metadata": {},
   "outputs": [],
   "source": [
    "track1_front_center = read_data(\"track1_data\",\"training_data_center_front\")\n",
    "track1_front_left = read_data(\"track1_data\",\"training_data_left_front\")\n",
    "track1_front_right = read_data(\"track1_data\",\"training_data_right_front\")\n",
    "\n",
    "track1_back_center = read_data(\"track1_data\",\"training_data_center_back\")\n",
    "track1_back_left = read_data(\"track1_data\",\"training_data_left_back\")\n",
    "track1_back_right = read_data(\"track1_data\",\"training_data_right_back\")\n",
    "\n",
    "track1_front_recovery1 = read_data(\"track1_data\",\"training_data_recovery_front_1\")\n",
    "track1_front_recovery2 = read_data(\"track1_data\",\"training_data_recovery_front_2\")"
   ]
  },
  {
   "cell_type": "code",
   "execution_count": 4,
   "metadata": {},
   "outputs": [],
   "source": [
    "data = pd.concat([track1_front_center,track1_front_left,track1_front_right, \\\n",
    "                  track1_back_center,track1_back_left,track1_back_right])\n",
    "\n",
    "# clear from memory\n",
    "del track1_front_center\n",
    "del track1_front_left\n",
    "del track1_front_right\n",
    "del track1_back_center\n",
    "del track1_back_left\n",
    "del track1_back_right"
   ]
  },
  {
   "cell_type": "code",
   "execution_count": 5,
   "metadata": {},
   "outputs": [],
   "source": [
    "train_data, validation_data = train_test_split(data, test_size=0.3)\n",
    "del data"
   ]
  },
  {
   "cell_type": "code",
   "execution_count": 6,
   "metadata": {},
   "outputs": [
    {
     "data": {
      "text/html": [
       "<div>\n",
       "<style scoped>\n",
       "    .dataframe tbody tr th:only-of-type {\n",
       "        vertical-align: middle;\n",
       "    }\n",
       "\n",
       "    .dataframe tbody tr th {\n",
       "        vertical-align: top;\n",
       "    }\n",
       "\n",
       "    .dataframe thead th {\n",
       "        text-align: right;\n",
       "    }\n",
       "</style>\n",
       "<table border=\"1\" class=\"dataframe\">\n",
       "  <thead>\n",
       "    <tr style=\"text-align: right;\">\n",
       "      <th></th>\n",
       "      <th>center_img</th>\n",
       "      <th>left_img</th>\n",
       "      <th>right_img</th>\n",
       "      <th>steering_angle</th>\n",
       "      <th>throttle</th>\n",
       "      <th>break</th>\n",
       "      <th>speed</th>\n",
       "    </tr>\n",
       "  </thead>\n",
       "  <tbody>\n",
       "    <tr>\n",
       "      <th>2151</th>\n",
       "      <td>track1_data/training_data_left_back/IMG/center...</td>\n",
       "      <td>track1_data/training_data_left_back/IMG/left_2...</td>\n",
       "      <td>track1_data/training_data_left_back/IMG/right_...</td>\n",
       "      <td>0.0</td>\n",
       "      <td>0.260385</td>\n",
       "      <td>0.0</td>\n",
       "      <td>14.201500</td>\n",
       "    </tr>\n",
       "    <tr>\n",
       "      <th>271</th>\n",
       "      <td>track1_data/training_data_center_front/IMG/cen...</td>\n",
       "      <td>track1_data/training_data_center_front/IMG/lef...</td>\n",
       "      <td>track1_data/training_data_center_front/IMG/rig...</td>\n",
       "      <td>0.0</td>\n",
       "      <td>0.152622</td>\n",
       "      <td>0.0</td>\n",
       "      <td>10.824900</td>\n",
       "    </tr>\n",
       "    <tr>\n",
       "      <th>1727</th>\n",
       "      <td>track1_data/training_data_right_front/IMG/cent...</td>\n",
       "      <td>track1_data/training_data_right_front/IMG/left...</td>\n",
       "      <td>track1_data/training_data_right_front/IMG/righ...</td>\n",
       "      <td>0.0</td>\n",
       "      <td>0.000000</td>\n",
       "      <td>0.0</td>\n",
       "      <td>12.536770</td>\n",
       "    </tr>\n",
       "    <tr>\n",
       "      <th>10423</th>\n",
       "      <td>track1_data/training_data_center_front/IMG/cen...</td>\n",
       "      <td>track1_data/training_data_center_front/IMG/lef...</td>\n",
       "      <td>track1_data/training_data_center_front/IMG/rig...</td>\n",
       "      <td>0.0</td>\n",
       "      <td>0.000000</td>\n",
       "      <td>0.0</td>\n",
       "      <td>11.502320</td>\n",
       "    </tr>\n",
       "    <tr>\n",
       "      <th>2922</th>\n",
       "      <td>track1_data/training_data_center_front/IMG/cen...</td>\n",
       "      <td>track1_data/training_data_center_front/IMG/lef...</td>\n",
       "      <td>track1_data/training_data_center_front/IMG/rig...</td>\n",
       "      <td>0.0</td>\n",
       "      <td>0.000000</td>\n",
       "      <td>0.0</td>\n",
       "      <td>7.923998</td>\n",
       "    </tr>\n",
       "  </tbody>\n",
       "</table>\n",
       "</div>"
      ],
      "text/plain": [
       "                                              center_img  \\\n",
       "2151   track1_data/training_data_left_back/IMG/center...   \n",
       "271    track1_data/training_data_center_front/IMG/cen...   \n",
       "1727   track1_data/training_data_right_front/IMG/cent...   \n",
       "10423  track1_data/training_data_center_front/IMG/cen...   \n",
       "2922   track1_data/training_data_center_front/IMG/cen...   \n",
       "\n",
       "                                                left_img  \\\n",
       "2151   track1_data/training_data_left_back/IMG/left_2...   \n",
       "271    track1_data/training_data_center_front/IMG/lef...   \n",
       "1727   track1_data/training_data_right_front/IMG/left...   \n",
       "10423  track1_data/training_data_center_front/IMG/lef...   \n",
       "2922   track1_data/training_data_center_front/IMG/lef...   \n",
       "\n",
       "                                               right_img  steering_angle  \\\n",
       "2151   track1_data/training_data_left_back/IMG/right_...             0.0   \n",
       "271    track1_data/training_data_center_front/IMG/rig...             0.0   \n",
       "1727   track1_data/training_data_right_front/IMG/righ...             0.0   \n",
       "10423  track1_data/training_data_center_front/IMG/rig...             0.0   \n",
       "2922   track1_data/training_data_center_front/IMG/rig...             0.0   \n",
       "\n",
       "       throttle  break      speed  \n",
       "2151   0.260385    0.0  14.201500  \n",
       "271    0.152622    0.0  10.824900  \n",
       "1727   0.000000    0.0  12.536770  \n",
       "10423  0.000000    0.0  11.502320  \n",
       "2922   0.000000    0.0   7.923998  "
      ]
     },
     "execution_count": 6,
     "metadata": {},
     "output_type": "execute_result"
    }
   ],
   "source": [
    "train_data.head()"
   ]
  },
  {
   "cell_type": "code",
   "execution_count": 7,
   "metadata": {},
   "outputs": [
    {
     "data": {
      "text/plain": [
       "((19354, 7), (8295, 7))"
      ]
     },
     "execution_count": 7,
     "metadata": {},
     "output_type": "execute_result"
    }
   ],
   "source": [
    "train_data.shape, validation_data.shape"
   ]
  },
  {
   "cell_type": "code",
   "execution_count": 8,
   "metadata": {},
   "outputs": [],
   "source": [
    "correction = 0.2\n",
    "\n",
    "def generator(samples, batch_size=32):\n",
    "    num_samples = len(samples)\n",
    "    while 1: # Loop forever so the generator never terminates\n",
    "        shuffle(samples)\n",
    "        for offset in range(0, num_samples, batch_size):\n",
    "            batch_samples = samples[offset:offset+batch_size]\n",
    "        \n",
    "\n",
    "            images = []\n",
    "            angles = []\n",
    "            \n",
    "            \n",
    "            for index, batch_sample in batch_samples.iterrows():\n",
    "                img_path = batch_sample[\"center_img\"]\n",
    "                steering_angle = batch_sample[\"steering_angle\"]\n",
    "                \n",
    "                img_loaded = cv2.imread(img_path)\n",
    "                images.append(img_loaded)\n",
    "                angles.append(steering_angle)\n",
    "                images.append(cv2.flip(img_loaded, 1))\n",
    "                angles.append(steering_angle*-1.0)\n",
    "                \n",
    "                \n",
    "                img_path = batch_sample[\"left_img\"]\n",
    "                steering_angle = batch_sample[\"steering_angle\"]\n",
    "                \n",
    "                img_loaded = cv2.imread(img_path)\n",
    "                steering_angle = steering_angle + correction\n",
    "                images.append(img_loaded)\n",
    "                angles.append(steering_angle)\n",
    "                images.append(cv2.flip(img_loaded, 1))\n",
    "                angles.append(steering_angle*-1.0)\n",
    "                \n",
    "                img_path = batch_sample[\"right_img\"]\n",
    "                steering_angle = batch_sample[\"steering_angle\"]\n",
    "                \n",
    "                img_loaded = cv2.imread(img_path)\n",
    "                steering_angle = steering_angle - correction\n",
    "                images.append(img_loaded)\n",
    "                angles.append(steering_angle)\n",
    "                images.append(cv2.flip(img_loaded, 1))\n",
    "                angles.append(steering_angle*-1.0)\n",
    "\n",
    "            # trim image to only see section with road\n",
    "            X_train = np.array(images)\n",
    "            y_train = np.array(angles)\n",
    "            yield shuffle(X_train, y_train)"
   ]
  },
  {
   "cell_type": "code",
   "execution_count": 9,
   "metadata": {},
   "outputs": [],
   "source": [
    "train_generator = generator(train_data, batch_size=10) # here batch_size=10 is actually 10 * 3 * 2 because we are loading center, left and right images\n",
    "validation_generator = generator(validation_data, batch_size=10)"
   ]
  },
  {
   "cell_type": "markdown",
   "metadata": {},
   "source": [
    "### Model"
   ]
  },
  {
   "cell_type": "code",
   "execution_count": 10,
   "metadata": {
    "scrolled": false
   },
   "outputs": [
    {
     "name": "stdout",
     "output_type": "stream",
     "text": [
      "Epoch 1/50\n",
      "19354/19354 [==============================] - 1383s 71ms/step - loss: 0.0208 - acc: 0.2639 - val_loss: 0.0237 - val_acc: 0.2637\n",
      "Epoch 2/50\n",
      "19354/19354 [==============================] - 1367s 71ms/step - loss: 0.0116 - acc: 0.2642 - val_loss: 0.0271 - val_acc: 0.2631\n",
      "Epoch 3/50\n",
      "19354/19354 [==============================] - 1377s 71ms/step - loss: 0.0080 - acc: 0.2642 - val_loss: 0.0267 - val_acc: 0.2631\n",
      "Epoch 4/50\n",
      "19354/19354 [==============================] - 1364s 70ms/step - loss: 0.0062 - acc: 0.2642 - val_loss: 0.0268 - val_acc: 0.2634\n",
      "Epoch 5/50\n",
      "19354/19354 [==============================] - 1364s 70ms/step - loss: 0.0052 - acc: 0.2642 - val_loss: 0.0284 - val_acc: 0.2630\n",
      "Epoch 6/50\n",
      "19354/19354 [==============================] - 1366s 71ms/step - loss: 0.0045 - acc: 0.2642 - val_loss: 0.0298 - val_acc: 0.2627\n"
     ]
    }
   ],
   "source": [
    "model = Sequential()\n",
    "model.add(Lambda(lambda x: x / 255.0 - 0.5, input_shape=(160,320,3)))\n",
    "# crop top 70px, bottom 25px because we have bad data on top like trees, sky etc and \n",
    "#                                                        bottom has hood of the car\n",
    "# Also - 1 px from left of the image and 1 px on the right of the image.\n",
    "model.add(Cropping2D(cropping=((70,25),(1,1))))\n",
    "model.add(Conv2D(24, kernel_size=(5,5), strides=(2,2), activation='relu'))\n",
    "model.add(Conv2D(36, kernel_size=(5,5), strides=(2,2), activation='relu'))\n",
    "model.add(Conv2D(48, kernel_size=(5,5), strides=(2,2), activation='relu'))\n",
    "model.add(Conv2D(64, kernel_size=(3,3), activation='relu'))\n",
    "model.add(Conv2D(64, kernel_size=(3,3), activation='relu'))\n",
    "model.add(Flatten())\n",
    "model.add(Dense(100))\n",
    "model.add(Dense(50))\n",
    "model.add(Dense(10))\n",
    "model.add(Dense(1))\n",
    "\n",
    "model.compile(loss=\"mse\", optimizer=\"adam\", metrics=[\"accuracy\"])\n",
    "\n",
    "checkpoint = ModelCheckpoint('behavioral_cloning/model_track1.h5', save_best_only=True, mode='min')\n",
    "early_stopping = EarlyStopping(monitor = 'val_loss', mode='auto', patience=5)\n",
    "\n",
    "# history = model.fit(augmented_images, augmented_measurements, validation_split=0.20, shuffle=True, epochs=25,\n",
    "#                     callbacks=[checkpoint, early_stopping])\n",
    "\n",
    "# model.save(\"model.h5\")\n",
    "fit_history = model.fit_generator(train_generator, steps_per_epoch= \\\n",
    "            len(train_data), validation_data=validation_generator, \\\n",
    "            nb_val_samples=len(validation_data), epochs=50, \\\n",
    "            callbacks=[checkpoint, early_stopping], shuffle=True)"
   ]
  },
  {
   "cell_type": "code",
   "execution_count": 20,
   "metadata": {},
   "outputs": [
    {
     "data": {
      "text/plain": [
       "(<matplotlib.axes._subplots.AxesSubplot at 0x7fdb886f53c8>,\n",
       " <matplotlib.axes._subplots.AxesSubplot at 0x7fdb886be358>)"
      ]
     },
     "execution_count": 20,
     "metadata": {},
     "output_type": "execute_result"
    },
    {
     "data": {
      "image/png": "[encoded data removed]",
      "text/plain": [
       "<Figure size 1080x720 with 2 Axes>"
      ]
     },
     "metadata": {
      "needs_background": "light"
     },
     "output_type": "display_data"
    }
   ],
   "source": [
    "plt.rcParams['figure.figsize'] = (15.0, 10.0)  # width, height\n",
    "train_test_curves(fit_history.history)"
   ]
  },
  {
   "cell_type": "code",
   "execution_count": 11,
   "metadata": {},
   "outputs": [
    {
     "name": "stdout",
     "output_type": "stream",
     "text": [
      "Epoch 1/50\n",
      "19354/19354 [==============================] - 1346s 70ms/step - loss: 0.0212 - acc: 0.2639 - val_loss: 0.0231 - val_acc: 0.2635\n",
      "Epoch 2/50\n",
      "19354/19354 [==============================] - 1361s 70ms/step - loss: 0.0119 - acc: 0.2641 - val_loss: 0.0289 - val_acc: 0.2620\n",
      "Epoch 3/50\n",
      "19354/19354 [==============================] - 1357s 70ms/step - loss: 0.0082 - acc: 0.2642 - val_loss: 0.0293 - val_acc: 0.2623\n",
      "Epoch 4/50\n",
      "19354/19354 [==============================] - 1349s 70ms/step - loss: 0.0065 - acc: 0.2642 - val_loss: 0.0265 - val_acc: 0.2632\n",
      "Epoch 5/50\n",
      "19354/19354 [==============================] - 1350s 70ms/step - loss: 0.0055 - acc: 0.2642 - val_loss: 0.0270 - val_acc: 0.2626\n",
      "Epoch 6/50\n",
      "19354/19354 [==============================] - 1356s 70ms/step - loss: 0.0049 - acc: 0.2642 - val_loss: 0.0260 - val_acc: 0.2629\n"
     ]
    }
   ],
   "source": [
    "model = Sequential()\n",
    "model.add(Lambda(lambda x: x / 255.0 - 0.5, input_shape=(160,320,3)))\n",
    "# crop top 70px, bottom 25px because we have bad data on top like trees, sky etc and \n",
    "#                                                        bottom has hood of the car\n",
    "# Also - 1 px from left of the image and 1 px on the right of the image.\n",
    "model.add(Cropping2D(cropping=((70,25),(1,1))))\n",
    "model.add(Conv2D(24, kernel_size=(5,5), strides=(2,2), activation='relu'))\n",
    "model.add(Conv2D(36, kernel_size=(5,5), strides=(2,2), activation='relu'))\n",
    "model.add(Conv2D(48, kernel_size=(5,5), strides=(2,2), activation='relu'))\n",
    "model.add(Conv2D(64, kernel_size=(3,3), activation='relu'))\n",
    "model.add(Conv2D(64, kernel_size=(3,3), activation='relu'))\n",
    "model.add(Flatten())\n",
    "model.add(Dense(100))\n",
    "model.add(Dropout(0.2))\n",
    "model.add(Dense(50))\n",
    "model.add(Dense(10))\n",
    "model.add(Dense(1))\n",
    "\n",
    "model.compile(loss=\"mse\", optimizer=\"adam\", metrics=[\"accuracy\"])\n",
    "\n",
    "checkpoint = ModelCheckpoint('behavioral_cloning/model_track1_dropout.h5', save_best_only=True, mode='min')\n",
    "early_stopping = EarlyStopping(monitor = 'val_loss', mode='auto', patience=5)\n",
    "\n",
    "# history = model.fit(augmented_images, augmented_measurements, validation_split=0.20, shuffle=True, epochs=25,\n",
    "#                     callbacks=[checkpoint, early_stopping])\n",
    "\n",
    "# model.save(\"model.h5\")\n",
    "fit_history_dropout = model.fit_generator(train_generator, steps_per_epoch= \\\n",
    "            len(train_data), validation_data=validation_generator, \\\n",
    "            nb_val_samples=len(validation_data), epochs=50, callbacks=[checkpoint, early_stopping])"
   ]
  },
  {
   "cell_type": "code",
   "execution_count": 21,
   "metadata": {},
   "outputs": [
    {
     "data": {
      "text/plain": [
       "(<matplotlib.axes._subplots.AxesSubplot at 0x7fdb88693a20>,\n",
       " <matplotlib.axes._subplots.AxesSubplot at 0x7fdb807d9438>)"
      ]
     },
     "execution_count": 21,
     "metadata": {},
     "output_type": "execute_result"
    },
    {
     "data": {
      "image/png": "[encoded data removed]",
      "text/plain": [
       "<Figure size 1080x720 with 2 Axes>"
      ]
     },
     "metadata": {
      "needs_background": "light"
     },
     "output_type": "display_data"
    }
   ],
   "source": [
    "plt.rcParams['figure.figsize'] = (15.0, 10.0)  # width, height\n",
    "train_test_curves(fit_history_dropout.history)"
   ]
  },
  {
   "cell_type": "code",
   "execution_count": 12,
   "metadata": {
    "scrolled": true
   },
   "outputs": [
    {
     "name": "stdout",
     "output_type": "stream",
     "text": [
      "Epoch 1/50\n",
      "19354/19354 [==============================] - 1356s 70ms/step - loss: 0.0220 - acc: 0.2639 - val_loss: 0.0290 - val_acc: 0.2630\n",
      "Epoch 2/50\n",
      "19354/19354 [==============================] - 1353s 70ms/step - loss: 0.0116 - acc: 0.2642 - val_loss: 0.0365 - val_acc: 0.2616\n",
      "Epoch 3/50\n",
      "19354/19354 [==============================] - 1355s 70ms/step - loss: 0.0075 - acc: 0.2642 - val_loss: 0.0386 - val_acc: 0.2617\n",
      "Epoch 4/50\n",
      "19354/19354 [==============================] - 1346s 70ms/step - loss: 0.0059 - acc: 0.2642 - val_loss: 0.0373 - val_acc: 0.2622\n",
      "Epoch 5/50\n",
      "19354/19354 [==============================] - 1355s 70ms/step - loss: 0.0050 - acc: 0.2642 - val_loss: 0.0376 - val_acc: 0.2622\n",
      "Epoch 6/50\n",
      "19354/19354 [==============================] - 1352s 70ms/step - loss: 0.0043 - acc: 0.2642 - val_loss: 0.0423 - val_acc: 0.2617\n"
     ]
    }
   ],
   "source": [
    "optimizer_adam = Adam(lr=0.0001)\n",
    "\n",
    "\n",
    "model = Sequential()\n",
    "model.add(Lambda(lambda x: x / 255.0 - 0.5, input_shape=(160,320,3)))\n",
    "# crop top 70px, bottom 25px because we have bad data on top like trees, sky etc and \n",
    "#                                                        bottom has hood of the car\n",
    "# Also - 1 px from left of the image and 1 px on the right of the image.\n",
    "model.add(Cropping2D(cropping=((70,25),(1,1))))\n",
    "model.add(Conv2D(24, kernel_size=(5,5), strides=(2,2), activation='relu'))\n",
    "model.add(Conv2D(36, kernel_size=(5,5), strides=(2,2), activation='relu'))\n",
    "model.add(Conv2D(48, kernel_size=(5,5), strides=(2,2), activation='relu'))\n",
    "model.add(Conv2D(64, kernel_size=(3,3), activation='relu'))\n",
    "model.add(Conv2D(64, kernel_size=(3,3), activation='relu'))\n",
    "model.add(Flatten())\n",
    "model.add(Dense(100))\n",
    "# model.add(Dropout(0.2))\n",
    "model.add(Dense(50))\n",
    "model.add(Dense(10))\n",
    "model.add(Dense(1))\n",
    "\n",
    "\n",
    "\n",
    "model.compile(loss=\"mse\", optimizer=optimizer_adam, metrics=[\"accuracy\"])\n",
    "\n",
    "checkpoint = ModelCheckpoint('behavioral_cloning/model_track1_customadam.h5', save_best_only=True, mode='min')\n",
    "early_stopping = EarlyStopping(monitor = 'val_loss', mode='auto', patience=5)\n",
    "\n",
    "# history = model.fit(augmented_images, augmented_measurements, validation_split=0.20, shuffle=True, epochs=25,\n",
    "#                     callbacks=[checkpoint, early_stopping])\n",
    "\n",
    "# model.save(\"model.h5\")\n",
    "fit_history_custom_adam = model.fit_generator(train_generator, steps_per_epoch= \\\n",
    "            len(train_data), validation_data=validation_generator, \\\n",
    "            nb_val_samples=len(validation_data), epochs=50, callbacks=[checkpoint, early_stopping])"
   ]
  },
  {
   "cell_type": "code",
   "execution_count": 22,
   "metadata": {},
   "outputs": [
    {
     "data": {
      "text/plain": [
       "(<matplotlib.axes._subplots.AxesSubplot at 0x7fdb80766da0>,\n",
       " <matplotlib.axes._subplots.AxesSubplot at 0x7fdb8071c550>)"
      ]
     },
     "execution_count": 22,
     "metadata": {},
     "output_type": "execute_result"
    },
    {
     "data": {
      "image/png": "[encoded data removed]",
      "text/plain": [
       "<Figure size 1080x720 with 2 Axes>"
      ]
     },
     "metadata": {
      "needs_background": "light"
     },
     "output_type": "display_data"
    }
   ],
   "source": [
    "plt.rcParams['figure.figsize'] = (15.0, 10.0)  # width, height\n",
    "train_test_curves(fit_history_custom_adam.history)"
   ]
  },
  {
   "cell_type": "code",
   "execution_count": null,
   "metadata": {},
   "outputs": [],
   "source": []
  }
 ],
 "metadata": {
  "kernelspec": {
   "display_name": "Python 3",
   "language": "python",
   "name": "python3"
  },
  "language_info": {
   "codemirror_mode": {
    "name": "ipython",
    "version": 3
   },
   "file_extension": ".py",
   "mimetype": "text/x-python",
   "name": "python",
   "nbconvert_exporter": "python",
   "pygments_lexer": "ipython3",
   "version": "3.6.6"
  }
 },
 "nbformat": 4,
 "nbformat_minor": 2
}
